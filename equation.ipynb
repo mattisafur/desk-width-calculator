{
 "cells": [
  {
   "cell_type": "code",
   "execution_count": null,
   "id": "28f307d8",
   "metadata": {},
   "outputs": [],
   "source": [
    "import sympy"
   ]
  },
  {
   "cell_type": "code",
   "execution_count": null,
   "id": "ae4a1758",
   "metadata": {},
   "outputs": [],
   "source": [
    "d = sympy.Symbol(\"d\")\n",
    "rh = sympy.Symbol(\"r_h\")\n",
    "rv = sympy.Symbol(\"r_v\")\n",
    "l = sympy.Symbol(\"l\")"
   ]
  },
  {
   "cell_type": "code",
   "execution_count": null,
   "id": "9df67b29",
   "metadata": {},
   "outputs": [],
   "source": [
    "monitor_width = sympy.sqrt(d**2 / (1 + (rv/rh)**2))\n",
    "monitor_width"
   ]
  },
  {
   "cell_type": "code",
   "execution_count": null,
   "id": "0269736d",
   "metadata": {},
   "outputs": [],
   "source": [
    "distance_to_monitor_edge = sympy.sqrt(l**2 + (monitor_width / 2) ** 2)\n",
    "distance_to_monitor_edge"
   ]
  },
  {
   "cell_type": "code",
   "execution_count": null,
   "id": "cbab6308",
   "metadata": {},
   "outputs": [],
   "source": [
    "total_viewing_angle = 6*sympy.tan((monitor_width / 2) / l)\n",
    "total_viewing_angle"
   ]
  },
  {
   "cell_type": "code",
   "execution_count": null,
   "id": "e9676ea9",
   "metadata": {},
   "outputs": [],
   "source": [
    "total_width = sympy.sqrt(\n",
    "    2 * distance_to_monitor_edge**2\n",
    "    - 2 * distance_to_monitor_edge**2 * sympy.cos(total_viewing_angle)\n",
    ")\n",
    "total_width"
   ]
  },
  {
   "cell_type": "code",
   "execution_count": null,
   "id": "c3259cbe",
   "metadata": {},
   "outputs": [],
   "source": [
    "sympy.simplify(total_width)"
   ]
  },
  {
   "cell_type": "code",
   "execution_count": null,
   "id": "8dc39296",
   "metadata": {},
   "outputs": [],
   "source": [
    "total_width.subs(\n",
    "    [\n",
    "        (d, 0.6858),\n",
    "        (rh, 16),\n",
    "        (rv, 9),\n",
    "        (l, 0.8),\n",
    "    ]\n",
    ").evalf()"
   ]
  },
  {
   "cell_type": "code",
   "execution_count": null,
   "id": "d107ed1a",
   "metadata": {},
   "outputs": [],
   "source": []
  }
 ],
 "metadata": {
  "kernelspec": {
   "display_name": ".venv",
   "language": "python",
   "name": "python3"
  },
  "language_info": {
   "codemirror_mode": {
    "name": "ipython",
    "version": 3
   },
   "file_extension": ".py",
   "mimetype": "text/x-python",
   "name": "python",
   "nbconvert_exporter": "python",
   "pygments_lexer": "ipython3",
   "version": "3.13.5"
  }
 },
 "nbformat": 4,
 "nbformat_minor": 5
}
