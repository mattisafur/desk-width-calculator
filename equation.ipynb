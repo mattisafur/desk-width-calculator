{
 "cells": [
  {
   "cell_type": "code",
   "execution_count": null,
   "id": "28f307d8",
   "metadata": {},
   "outputs": [],
   "source": [
    "import sympy"
   ]
  },
  {
   "cell_type": "code",
   "execution_count": null,
   "id": "ae4a1758",
   "metadata": {},
   "outputs": [],
   "source": [
    "d = sympy.Symbol(\"d\")\n",
    "rh = sympy.Symbol(\"r_h\")\n",
    "rv = sympy.Symbol(\"r_v\")\n",
    "l = sympy.Symbol(\"l\")"
   ]
  },
  {
   "cell_type": "code",
   "execution_count": null,
   "id": "9df67b29",
   "metadata": {},
   "outputs": [],
   "source": [
    "monitor_width = sympy.sqrt(d**2 / (1 + (rv / rh) ** 2)) # pyright: ignore[reportOperatorIssue]\n",
    "monitor_width"
   ]
  },
  {
   "cell_type": "code",
   "execution_count": null,
   "id": "0269736d",
   "metadata": {},
   "outputs": [],
   "source": [
    "distance_to_monitor_edge = sympy.sqrt(l**2 + (monitor_width / 2) ** 2) # pyright: ignore[reportOperatorIssue]\n",
    "distance_to_monitor_edge"
   ]
  },
  {
   "cell_type": "code",
   "execution_count": null,
   "id": "cbab6308",
   "metadata": {},
   "outputs": [],
   "source": [
    "total_viewing_angle = 6 * sympy.tan((monitor_width / 2) / l) # pyright: ignore[reportOperatorIssue]\n",
    "total_viewing_angle"
   ]
  },
  {
   "cell_type": "code",
   "execution_count": null,
   "id": "e9676ea9",
   "metadata": {},
   "outputs": [],
   "source": [
    "total_width = sympy.sqrt(\n",
    "    2 * distance_to_monitor_edge**2  # pyright: ignore[reportOperatorIssue]\n",
    "    - 2 * distance_to_monitor_edge**2 * sympy.cos(total_viewing_angle)  # pyright: ignore[reportOperatorIssue]\n",
    ")\n",
    "total_width"
   ]
  },
  {
   "cell_type": "code",
   "execution_count": null,
   "id": "c3259cbe",
   "metadata": {},
   "outputs": [],
   "source": [
    "sympy.simplify(total_width)"
   ]
  },
  {
   "cell_type": "code",
   "execution_count": null,
   "id": "d4179b31",
   "metadata": {},
   "outputs": [],
   "source": [
    "import ipywidgets\n",
    "from IPython.display import display\n",
    "\n",
    "d_input = ipywidgets.FloatText(description=\"d\", value=0.6858)\n",
    "rh_input = ipywidgets.FloatText(description=\"rh\", value=16)\n",
    "rv_input = ipywidgets.FloatText(description=\"rv\", value=9)\n",
    "l_input = ipywidgets.FloatText(description=\"l\", value=0.79)\n",
    "\n",
    "result_label = ipywidgets.Label()\n",
    "\n",
    "\n",
    "def calculate_width(change):\n",
    "    result = total_width.subs(\n",
    "        [\n",
    "            (d, d_input.value),\n",
    "            (rh, rh_input.value),\n",
    "            (rv, rv_input.value),\n",
    "            (l, l_input.value),\n",
    "        ]\n",
    "    ).evalf()  # pyright: ignore[reportAttributeAccessIssue]\n",
    "    result_label.value = str(result)\n",
    "\n",
    "\n",
    "d_input.observe(calculate_width)\n",
    "rh_input.observe(calculate_width)\n",
    "rv_input.observe(calculate_width)\n",
    "l_input.observe(calculate_width)\n",
    "\n",
    "display(d_input, rh_input, rv_input, l_input, result_label)\n",
    "\n",
    "calculate_width(None)"
   ]
  },
  {
   "cell_type": "code",
   "execution_count": null,
   "id": "fd65b484",
   "metadata": {},
   "outputs": [],
   "source": []
  }
 ],
 "metadata": {
  "kernelspec": {
   "display_name": ".venv",
   "language": "python",
   "name": "python3"
  },
  "language_info": {
   "codemirror_mode": {
    "name": "ipython",
    "version": 3
   },
   "file_extension": ".py",
   "mimetype": "text/x-python",
   "name": "python",
   "nbconvert_exporter": "python",
   "pygments_lexer": "ipython3",
   "version": "3.13.5"
  }
 },
 "nbformat": 4,
 "nbformat_minor": 5
}
